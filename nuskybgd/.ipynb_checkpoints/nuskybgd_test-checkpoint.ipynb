{
 "cells": [
  {
   "cell_type": "markdown",
   "metadata": {},
   "source": [
    "# nuskybgd test\n",
    "\n",
    "## Used MakeImages python notebook to extract a 3--6 keV spectrum.\n",
    "\n",
    "## Made background regions by hand. Note that FPMA has straylight from LMC X-2 on DET2, so we exclude that one.\n",
    "\n",
    "## Loop over regions and make the spectra"
   ]
  },
  {
   "cell_type": "markdown",
   "metadata": {},
   "source": [
    "Okay, for now, we have to go into event_cl and run getspecnoarf.py from there...that feels bad...really we're just extracting the spectrum. Can we do this using nustar_gen? Not really...need to turn off the ARF generator. Maybe go ahead and add this in?"
   ]
  },
  {
   "cell_type": "code",
   "execution_count": 10,
   "metadata": {},
   "outputs": [
    {
     "name": "stdout",
     "output_type": "stream",
     "text": [
      "env: HEADASNOQUERY=\n",
      "env: HEADASPROMPT=/dev/null\n"
     ]
    }
   ],
   "source": [
    "from importlib import reload\n",
    "import nustar_gen as nsg\n",
    "from nustar_gen import info\n",
    "from nustar_gen import wrappers\n",
    "\n",
    "reload(wrappers)\n",
    "import os\n",
    "here = os.getcwd()+'/'\n",
    "\n",
    "# Required to run heasoft stuff in the background\n",
    "%env HEADASNOQUERY=\n",
    "%env HEADASPROMPT=/dev/null\n",
    "\n"
   ]
  },
  {
   "cell_type": "code",
   "execution_count": 2,
   "metadata": {},
   "outputs": [
    {
     "name": "stdout",
     "output_type": "stream",
     "text": [
      "Exposure for FPMA, mode 01 is:      82.69 ks\n",
      "Exposure for FPMA, mode 06 is:      25.77 ks\n",
      "\n",
      "Exposure for FPMB, mode 01 is:      82.14 ks\n",
      "Exposure for FPMB, mode 06 is:      25.55 ks\n",
      "\n",
      "2020-03-13T10:26:09.000\n"
     ]
    }
   ],
   "source": [
    "obs = info.Observation(path=here, seqid='10601407002')\n",
    "obs.evtfiles['A'][0]\n",
    "obs.exposure_report()\n",
    "print(obs.observation_date)"
   ]
  },
  {
   "cell_type": "code",
   "execution_count": 5,
   "metadata": {},
   "outputs": [
    {
     "name": "stdout",
     "output_type": "stream",
     "text": [
      "/Users/bwgref/science/n132d/10601407002/event_cl/bgd/runspec_nu10601407002A01_bgd0A.sh\n",
      "/Users/bwgref/science/n132d/10601407002/event_cl/bgd/runspec_nu10601407002A01_bgd1A.sh\n",
      "/Users/bwgref/science/n132d/10601407002/event_cl/bgd/runspec_nu10601407002A01_bgd3A.sh\n",
      "/Users/bwgref/science/n132d/10601407002/event_cl/bgd/runspec_nu10601407002B01_bgd0B.sh\n",
      "/Users/bwgref/science/n132d/10601407002/event_cl/bgd/runspec_nu10601407002B01_bgd1B.sh\n",
      "/Users/bwgref/science/n132d/10601407002/event_cl/bgd/runspec_nu10601407002B01_bgd2B.sh\n",
      "/Users/bwgref/science/n132d/10601407002/event_cl/bgd/runspec_nu10601407002B01_bgd3B.sh\n"
     ]
    }
   ],
   "source": [
    "bgd_regions = {'A':[0, 1, 3], 'B':[0, 1, 2, 3]}\n",
    "\n",
    "\n",
    "for mod in bgd_regions:\n",
    "    ev = obs.evtfiles[mod][0]\n",
    "    for reg in bgd_regions[mod]:\n",
    "        reg_file = f'{obs.evdir}bgd{reg}{mod}.reg'\n",
    "        outscr = nsg.wrappers.make_spectra(ev, mod,reg_file,\n",
    "                                  runmkarf='no',\n",
    "                                  outpath=f'{obs.evdir}bgd')\n",
    "        print(outscr)\n",
    "        os.system(outscr)"
   ]
  },
  {
   "cell_type": "markdown",
   "metadata": {},
   "source": [
    "# Go run the scripts created above."
   ]
  },
  {
   "cell_type": "code",
   "execution_count": 12,
   "metadata": {},
   "outputs": [
    {
     "name": "stdout",
     "output_type": "stream",
     "text": [
      "/Users/bwgref/science/n132d/10601407002/event_cl/srcA.reg\n",
      "/Users/bwgref/science/n132d/10601407002/event_cl/spec/runspec_nu10601407002A01_srcA.sh\n",
      "/Users/bwgref/science/n132d/10601407002/event_cl/srcB.reg\n",
      "/Users/bwgref/science/n132d/10601407002/event_cl/spec/runspec_nu10601407002B01_srcB.sh\n"
     ]
    }
   ],
   "source": [
    "for mod in ['A', 'B']:\n",
    "    ev = obs.evtfiles[mod][0]\n",
    "    reg_file = f'{obs.evdir}src{mod}.reg'\n",
    "    outscr = nsg.wrappers.make_spectra(ev, mod,reg_file,\n",
    "                                       outpath=f'{obs.evdir}spec',\n",
    "                                      extended='yes')\n",
    "    print(outscr)\n"
   ]
  },
  {
   "cell_type": "code",
   "execution_count": null,
   "metadata": {},
   "outputs": [],
   "source": [
    "# Run the scripts above"
   ]
  }
 ],
 "metadata": {
  "kernelspec": {
   "display_name": "Python 3 (ipykernel)",
   "language": "python",
   "name": "python3"
  },
  "language_info": {
   "codemirror_mode": {
    "name": "ipython",
    "version": 3
   },
   "file_extension": ".py",
   "mimetype": "text/x-python",
   "name": "python",
   "nbconvert_exporter": "python",
   "pygments_lexer": "ipython3",
   "version": "3.8.8"
  }
 },
 "nbformat": 4,
 "nbformat_minor": 4
}
