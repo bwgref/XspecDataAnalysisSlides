{
 "cells": [
  {
   "cell_type": "code",
   "execution_count": 3,
   "metadata": {
    "collapsed": true
   },
   "outputs": [],
   "source": [
    "def bic(cstat, params, channels):\n",
    "    # Bayes Information Criteria\n",
    "    from numpy import log\n",
    "    bic = cstat + params * log(channels)\n",
    "    return bic"
   ]
  },
  {
   "cell_type": "code",
   "execution_count": 7,
   "metadata": {
    "collapsed": false
   },
   "outputs": [
    {
     "name": "stdout",
     "output_type": "stream",
     "text": [
      "409.611129782\n"
     ]
    }
   ],
   "source": [
    "# Power-law model\n",
    "cstat1 = 397.34\n",
    "params1 = 2\n",
    "chan1 = 462\n",
    "print(bic(cstat1, params1, chan1))"
   ]
  },
  {
   "cell_type": "code",
   "execution_count": 8,
   "metadata": {
    "collapsed": false
   },
   "outputs": [
    {
     "name": "stdout",
     "output_type": "stream",
     "text": [
      "421.197824455\n"
     ]
    }
   ],
   "source": [
    "# Power-law + Gauss\n",
    "cstat2 = 390.52\n",
    "params2 = 5\n",
    "chan2 = 462\n",
    "print(bic(cstat2, params2, chan2))"
   ]
  },
  {
   "cell_type": "code",
   "execution_count": 11,
   "metadata": {
    "collapsed": false
   },
   "outputs": [
    {
     "name": "stdout",
     "output_type": "stream",
     "text": [
      "2.273333333333331\n"
     ]
    }
   ],
   "source": [
    "# Old way:\n",
    "# If the chane in C-stat is > the change in the number of parameters, then yay!\n",
    "print( (cstat1 - cstat2) / (params2 - params1))"
   ]
  },
  {
   "cell_type": "code",
   "execution_count": null,
   "metadata": {
    "collapsed": true
   },
   "outputs": [],
   "source": [
    "# But here BIC2 is > BIC1, so we prefer model (just the power-law)"
   ]
  }
 ],
 "metadata": {
  "anaconda-cloud": {},
  "kernelspec": {
   "display_name": "Python [default]",
   "language": "python",
   "name": "python3"
  },
  "language_info": {
   "codemirror_mode": {
    "name": "ipython",
    "version": 3
   },
   "file_extension": ".py",
   "mimetype": "text/x-python",
   "name": "python",
   "nbconvert_exporter": "python",
   "pygments_lexer": "ipython3",
   "version": "3.5.1"
  }
 },
 "nbformat": 4,
 "nbformat_minor": 2
}
