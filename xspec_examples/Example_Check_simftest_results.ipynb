{
 "cells": [
  {
   "cell_type": "code",
   "execution_count": 99,
   "metadata": {
    "collapsed": false
   },
   "outputs": [
    {
     "data": {
      "image/png": "[encoded data removed]",
      "text/plain": [
       "<matplotlib.figure.Figure at 0x116621240>"
      ]
     },
     "metadata": {},
     "output_type": "display_data"
    },
    {
     "name": "stdout",
     "output_type": "stream",
     "text": [
      "5.000000000000003%\n"
     ]
    }
   ],
   "source": [
    "from matplotlib import pyplot as plt\n",
    "import numpy as np\n",
    "f = open('simftest_po_gauss.txt', 'r')\n",
    "ftest = {'cont': 0.,\n",
    "        'line':0.,\n",
    "        'diff':0.}\n",
    "diff = []\n",
    "for line in f:\n",
    "    if line.startswith('observed'):\n",
    "        continue\n",
    "    fields = line.split()\n",
    "    if len(fields) != 3:\n",
    "        break\n",
    "    diff.append(float(fields[2]))\n",
    "                \n",
    "f.close()\n",
    "hist_patches = plt.hist(diff, bins = 1000, cumulative=-1, normed=True)\n",
    "actual_diff = (397.34 - 390.52)\n",
    "plt.semilogy([actual_diff, actual_diff], [0, 1])\n",
    "plt.xlabel('Difference in Cstat')\n",
    "plt.ylabel('Prob of Diff < value')\n",
    "plt.show()\n",
    "bins = hist_patches[1]\n",
    "pdf = hist_patches[0]\n",
    "actual_pdf =np.max(np.where(bins < actual_diff))\n",
    "print('{}%'.format(100*pdf[actual_pdf]))"
   ]
  }
 ],
 "metadata": {
  "anaconda-cloud": {},
  "kernelspec": {
   "display_name": "Python [default]",
   "language": "python",
   "name": "python3"
  },
  "language_info": {
   "codemirror_mode": {
    "name": "ipython",
    "version": 3
   },
   "file_extension": ".py",
   "mimetype": "text/x-python",
   "name": "python",
   "nbconvert_exporter": "python",
   "pygments_lexer": "ipython3",
   "version": "3.5.1"
  }
 },
 "nbformat": 4,
 "nbformat_minor": 2
}
